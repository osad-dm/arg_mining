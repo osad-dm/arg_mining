{
  "cells": [
    {
      "cell_type": "code",
      "execution_count": null,
      "metadata": {
        "id": "HfoQp6OpzRzb"
      },
      "outputs": [],
      "source": [
        "texts = [\n",
        "    'В лесу родилась ёлочка, в лесу она росла.',\n",
        "    'Простое предложение',\n",
        "    'Одно простое предложение и второе простое предложение.',\n",
        "    'Я всегда прихожу на пары вовремя, но не в этот четверг.',\n",
        "    'Мама мыла раму',\n",
        "    'Никогда не говори \"Никогда\"',\n",
        "    'Как тебе такое, Илон Маск?',\n",
        "    'У меня все друзья решили сюда прийти еще не раз.' \n",
        "]"
      ]
    },
    {
      "cell_type": "code",
      "execution_count": null,
      "metadata": {
        "id": "VAmlW6MezRzl"
      },
      "outputs": [],
      "source": [
        "text = texts[0]"
      ]
    },
    {
      "cell_type": "code",
      "execution_count": null,
      "metadata": {
        "id": "S7IpoqMWzRzs"
      },
      "outputs": [],
      "source": [
        "# Вспомогательные функции для вывода результатов\n",
        "\n",
        "def print_heading(max_length, prefix=''):\n",
        "    '''\n",
        "    Функция для вывода заголовка таблицы результатов.\n",
        "        max_length - максимальная длина токенов,\n",
        "        prefix - строка для вывода в начале\n",
        "    '''\n",
        "    if max_length < 10:\n",
        "        max_length = 10\n",
        "    else:\n",
        "        max_length += 2\n",
        "        \n",
        "    print(f'{prefix}{\"ID токена\":11}{\"Токен\":{max_length}}{\"ID родителя\":13}{\"Родитель\":{max_length}}{\"Связь\":10}\\n')\n",
        "\n",
        "def print_token_result(token, token_id, parent, parent_id, dep, max_length=10, prefix=''):\n",
        "    '''\n",
        "    Функция для вывода результатов анализа для токена\n",
        "        token - анализируемый токен,\n",
        "        token_id - ID токена,\n",
        "        parent - родитель токена,\n",
        "        parent_id - ID родителя,\n",
        "        dep - тип связи токена с родителем,\n",
        "        max_length - максимальная длина токенов,\n",
        "        prefix - строка для вывода в начале\n",
        "    '''\n",
        "    if max_length < 10:\n",
        "        max_length = 10\n",
        "    else:\n",
        "        max_length += 2\n",
        "    \n",
        "    print(f'{prefix}{str(token_id):11}{token:{max_length}}{str(parent_id):13}{parent:{max_length}}{dep:10}')"
      ]
    },
    {
      "cell_type": "markdown",
      "metadata": {
        "id": "nDr-NHyczRzy"
      },
      "source": [
        "## spaCy\n"
      ]
    },
    {
      "cell_type": "code",
      "execution_count": null,
      "metadata": {
        "id": "Nl-De2iRzRz1"
      },
      "outputs": [],
      "source": [
        "import spacy\n",
        "from spacy import displacy"
      ]
    },
    {
      "cell_type": "code",
      "execution_count": null,
      "metadata": {
        "id": "h7VpTT6mzRz4"
      },
      "outputs": [],
      "source": [
        "spacy_model_name = 'ru_core_news_sm'\n",
        "# spacy_model_name = 'ru_core_news_md'\n",
        "# spacy_model_name = 'ru_core_news_lg'"
      ]
    },
    {
      "cell_type": "code",
      "execution_count": null,
      "metadata": {
        "id": "mKhenrYtzRz-"
      },
      "outputs": [],
      "source": [
        "nlp_spacy = spacy.load(spacy_model_name)"
      ]
    },
    {
      "cell_type": "markdown",
      "metadata": {
        "id": "9ZVT0ygIzR0B"
      },
      "source": [
        "Для каждого токена (узла дерева зависимостей) `spaCy` возвращает его родителя, тип связи с родителем и список детей.  \n",
        "Для токена-сказуемого родителем будет являться сам токен, а тип связи – `ROOT`:"
      ]
    },
    {
      "cell_type": "code",
      "execution_count": null,
      "metadata": {
        "id": "woXWIK2FzR0D"
      },
      "outputs": [],
      "source": [
        "doc_spacy = nlp_spacy(text)"
      ]
    },
    {
      "cell_type": "code",
      "execution_count": null,
      "metadata": {
        "id": "uJWzXkjFzR0E",
        "outputId": "4619e540-cc1b-4844-a03f-9d820238f5df"
      },
      "outputs": [
        {
          "name": "stdout",
          "output_type": "stream",
          "text": [
            "ID токена  Токен     ID родителя  Родитель  Связь     \n",
            "\n",
            "1          В         2            лесу      case      \n",
            "2          лесу      3            родилась  obl       \n",
            "3          родилась  3            родилась  ROOT      \n",
            "4          ёлочка    3            родилась  nsubj     \n",
            "5          ,         9            росла     punct     \n",
            "6          в         7            лесу      case      \n",
            "7          лесу      9            росла     obl       \n",
            "8          она       9            росла     nsubj     \n",
            "9          росла     3            родилась  conj      \n",
            "10         .         3            родилась  punct     \n"
          ]
        }
      ],
      "source": [
        "# Находим максимальную длину токенов - для удобного вывода\n",
        "max_length = max([len(token) for token in doc_spacy])\n",
        "print_heading(max_length)\n",
        "\n",
        "for token in doc_spacy:\n",
        "    print_token_result(\n",
        "        token_id=token.i+1,\n",
        "        token=token.text,\n",
        "        parent_id=token.head.i+1,\n",
        "        parent=token.head.text,\n",
        "        dep=token.dep_,\n",
        "        max_length=max_length\n",
        "    )"
      ]
    },
    {
      "cell_type": "markdown",
      "metadata": {
        "id": "f4OVspUVzR0M"
      },
      "source": [
        "---\n",
        "Построенное дерево можно визуализировать:"
      ]
    },
    {
      "cell_type": "code",
      "execution_count": null,
      "metadata": {
        "id": "_UUj6JAczR0O",
        "outputId": "6408c3fa-8738-44b2-c9aa-2074f1f3f3a5"
      },
      "outputs": [
        {
          "data": {
            "text/html": [
              "<span class=\"tex2jax_ignore\"><svg xmlns=\"http://www.w3.org/2000/svg\" xmlns:xlink=\"http://www.w3.org/1999/xlink\" xml:lang=\"ru\" id=\"d36de12e0c2840e6b89a8bc8c50f38c4-0\" class=\"displacy\" width=\"1450\" height=\"399.5\" direction=\"ltr\" style=\"max-width: none; height: 399.5px; color: #000000; background: #ffffff; font-family: Arial; direction: ltr\">\n",
              "<text class=\"displacy-token\" fill=\"currentColor\" text-anchor=\"middle\" y=\"309.5\">\n",
              "    <tspan class=\"displacy-word\" fill=\"currentColor\" x=\"50\">В</tspan>\n",
              "    <tspan class=\"displacy-tag\" dy=\"2em\" fill=\"currentColor\" x=\"50\">ADP</tspan>\n",
              "</text>\n",
              "\n",
              "<text class=\"displacy-token\" fill=\"currentColor\" text-anchor=\"middle\" y=\"309.5\">\n",
              "    <tspan class=\"displacy-word\" fill=\"currentColor\" x=\"225\">лесу</tspan>\n",
              "    <tspan class=\"displacy-tag\" dy=\"2em\" fill=\"currentColor\" x=\"225\">NOUN</tspan>\n",
              "</text>\n",
              "\n",
              "<text class=\"displacy-token\" fill=\"currentColor\" text-anchor=\"middle\" y=\"309.5\">\n",
              "    <tspan class=\"displacy-word\" fill=\"currentColor\" x=\"400\">родилась</tspan>\n",
              "    <tspan class=\"displacy-tag\" dy=\"2em\" fill=\"currentColor\" x=\"400\">VERB</tspan>\n",
              "</text>\n",
              "\n",
              "<text class=\"displacy-token\" fill=\"currentColor\" text-anchor=\"middle\" y=\"309.5\">\n",
              "    <tspan class=\"displacy-word\" fill=\"currentColor\" x=\"575\">ёлочка,</tspan>\n",
              "    <tspan class=\"displacy-tag\" dy=\"2em\" fill=\"currentColor\" x=\"575\">NOUN</tspan>\n",
              "</text>\n",
              "\n",
              "<text class=\"displacy-token\" fill=\"currentColor\" text-anchor=\"middle\" y=\"309.5\">\n",
              "    <tspan class=\"displacy-word\" fill=\"currentColor\" x=\"750\">в</tspan>\n",
              "    <tspan class=\"displacy-tag\" dy=\"2em\" fill=\"currentColor\" x=\"750\">ADP</tspan>\n",
              "</text>\n",
              "\n",
              "<text class=\"displacy-token\" fill=\"currentColor\" text-anchor=\"middle\" y=\"309.5\">\n",
              "    <tspan class=\"displacy-word\" fill=\"currentColor\" x=\"925\">лесу</tspan>\n",
              "    <tspan class=\"displacy-tag\" dy=\"2em\" fill=\"currentColor\" x=\"925\">NOUN</tspan>\n",
              "</text>\n",
              "\n",
              "<text class=\"displacy-token\" fill=\"currentColor\" text-anchor=\"middle\" y=\"309.5\">\n",
              "    <tspan class=\"displacy-word\" fill=\"currentColor\" x=\"1100\">она</tspan>\n",
              "    <tspan class=\"displacy-tag\" dy=\"2em\" fill=\"currentColor\" x=\"1100\">PRON</tspan>\n",
              "</text>\n",
              "\n",
              "<text class=\"displacy-token\" fill=\"currentColor\" text-anchor=\"middle\" y=\"309.5\">\n",
              "    <tspan class=\"displacy-word\" fill=\"currentColor\" x=\"1275\">росла.</tspan>\n",
              "    <tspan class=\"displacy-tag\" dy=\"2em\" fill=\"currentColor\" x=\"1275\">VERB</tspan>\n",
              "</text>\n",
              "\n",
              "<g class=\"displacy-arrow\">\n",
              "    <path class=\"displacy-arc\" id=\"arrow-d36de12e0c2840e6b89a8bc8c50f38c4-0-0\" stroke-width=\"2px\" d=\"M70,264.5 C70,177.0 215.0,177.0 215.0,264.5\" fill=\"none\" stroke=\"currentColor\"/>\n",
              "    <text dy=\"1.25em\" style=\"font-size: 0.8em; letter-spacing: 1px\">\n",
              "        <textPath xlink:href=\"#arrow-d36de12e0c2840e6b89a8bc8c50f38c4-0-0\" class=\"displacy-label\" startOffset=\"50%\" side=\"left\" fill=\"currentColor\" text-anchor=\"middle\">case</textPath>\n",
              "    </text>\n",
              "    <path class=\"displacy-arrowhead\" d=\"M70,266.5 L62,254.5 78,254.5\" fill=\"currentColor\"/>\n",
              "</g>\n",
              "\n",
              "<g class=\"displacy-arrow\">\n",
              "    <path class=\"displacy-arc\" id=\"arrow-d36de12e0c2840e6b89a8bc8c50f38c4-0-1\" stroke-width=\"2px\" d=\"M245,264.5 C245,177.0 390.0,177.0 390.0,264.5\" fill=\"none\" stroke=\"currentColor\"/>\n",
              "    <text dy=\"1.25em\" style=\"font-size: 0.8em; letter-spacing: 1px\">\n",
              "        <textPath xlink:href=\"#arrow-d36de12e0c2840e6b89a8bc8c50f38c4-0-1\" class=\"displacy-label\" startOffset=\"50%\" side=\"left\" fill=\"currentColor\" text-anchor=\"middle\">obl</textPath>\n",
              "    </text>\n",
              "    <path class=\"displacy-arrowhead\" d=\"M245,266.5 L237,254.5 253,254.5\" fill=\"currentColor\"/>\n",
              "</g>\n",
              "\n",
              "<g class=\"displacy-arrow\">\n",
              "    <path class=\"displacy-arc\" id=\"arrow-d36de12e0c2840e6b89a8bc8c50f38c4-0-2\" stroke-width=\"2px\" d=\"M420,264.5 C420,177.0 565.0,177.0 565.0,264.5\" fill=\"none\" stroke=\"currentColor\"/>\n",
              "    <text dy=\"1.25em\" style=\"font-size: 0.8em; letter-spacing: 1px\">\n",
              "        <textPath xlink:href=\"#arrow-d36de12e0c2840e6b89a8bc8c50f38c4-0-2\" class=\"displacy-label\" startOffset=\"50%\" side=\"left\" fill=\"currentColor\" text-anchor=\"middle\">nsubj</textPath>\n",
              "    </text>\n",
              "    <path class=\"displacy-arrowhead\" d=\"M565.0,266.5 L573.0,254.5 557.0,254.5\" fill=\"currentColor\"/>\n",
              "</g>\n",
              "\n",
              "<g class=\"displacy-arrow\">\n",
              "    <path class=\"displacy-arc\" id=\"arrow-d36de12e0c2840e6b89a8bc8c50f38c4-0-3\" stroke-width=\"2px\" d=\"M770,264.5 C770,177.0 915.0,177.0 915.0,264.5\" fill=\"none\" stroke=\"currentColor\"/>\n",
              "    <text dy=\"1.25em\" style=\"font-size: 0.8em; letter-spacing: 1px\">\n",
              "        <textPath xlink:href=\"#arrow-d36de12e0c2840e6b89a8bc8c50f38c4-0-3\" class=\"displacy-label\" startOffset=\"50%\" side=\"left\" fill=\"currentColor\" text-anchor=\"middle\">case</textPath>\n",
              "    </text>\n",
              "    <path class=\"displacy-arrowhead\" d=\"M770,266.5 L762,254.5 778,254.5\" fill=\"currentColor\"/>\n",
              "</g>\n",
              "\n",
              "<g class=\"displacy-arrow\">\n",
              "    <path class=\"displacy-arc\" id=\"arrow-d36de12e0c2840e6b89a8bc8c50f38c4-0-4\" stroke-width=\"2px\" d=\"M945,264.5 C945,89.5 1270.0,89.5 1270.0,264.5\" fill=\"none\" stroke=\"currentColor\"/>\n",
              "    <text dy=\"1.25em\" style=\"font-size: 0.8em; letter-spacing: 1px\">\n",
              "        <textPath xlink:href=\"#arrow-d36de12e0c2840e6b89a8bc8c50f38c4-0-4\" class=\"displacy-label\" startOffset=\"50%\" side=\"left\" fill=\"currentColor\" text-anchor=\"middle\">obl</textPath>\n",
              "    </text>\n",
              "    <path class=\"displacy-arrowhead\" d=\"M945,266.5 L937,254.5 953,254.5\" fill=\"currentColor\"/>\n",
              "</g>\n",
              "\n",
              "<g class=\"displacy-arrow\">\n",
              "    <path class=\"displacy-arc\" id=\"arrow-d36de12e0c2840e6b89a8bc8c50f38c4-0-5\" stroke-width=\"2px\" d=\"M1120,264.5 C1120,177.0 1265.0,177.0 1265.0,264.5\" fill=\"none\" stroke=\"currentColor\"/>\n",
              "    <text dy=\"1.25em\" style=\"font-size: 0.8em; letter-spacing: 1px\">\n",
              "        <textPath xlink:href=\"#arrow-d36de12e0c2840e6b89a8bc8c50f38c4-0-5\" class=\"displacy-label\" startOffset=\"50%\" side=\"left\" fill=\"currentColor\" text-anchor=\"middle\">nsubj</textPath>\n",
              "    </text>\n",
              "    <path class=\"displacy-arrowhead\" d=\"M1120,266.5 L1112,254.5 1128,254.5\" fill=\"currentColor\"/>\n",
              "</g>\n",
              "\n",
              "<g class=\"displacy-arrow\">\n",
              "    <path class=\"displacy-arc\" id=\"arrow-d36de12e0c2840e6b89a8bc8c50f38c4-0-6\" stroke-width=\"2px\" d=\"M420,264.5 C420,2.0 1275.0,2.0 1275.0,264.5\" fill=\"none\" stroke=\"currentColor\"/>\n",
              "    <text dy=\"1.25em\" style=\"font-size: 0.8em; letter-spacing: 1px\">\n",
              "        <textPath xlink:href=\"#arrow-d36de12e0c2840e6b89a8bc8c50f38c4-0-6\" class=\"displacy-label\" startOffset=\"50%\" side=\"left\" fill=\"currentColor\" text-anchor=\"middle\">conj</textPath>\n",
              "    </text>\n",
              "    <path class=\"displacy-arrowhead\" d=\"M1275.0,266.5 L1283.0,254.5 1267.0,254.5\" fill=\"currentColor\"/>\n",
              "</g>\n",
              "</svg></span>"
            ],
            "text/plain": [
              "<IPython.core.display.HTML object>"
            ]
          },
          "metadata": {},
          "output_type": "display_data"
        }
      ],
      "source": [
        "displacy.render(doc_spacy, style='dep')"
      ]
    },
    {
      "cell_type": "markdown",
      "metadata": {
        "id": "5aUmoWd4zR0R"
      },
      "source": [
        "---\n",
        "Путем итерации по токенам можно искать необходимые связи. Пусть, например, нужно найти подлежащее (`nsubj`), родителем которого является глагол (`VERB`):"
      ]
    },
    {
      "cell_type": "code",
      "execution_count": null,
      "metadata": {
        "id": "ibge3RqPzR0T",
        "outputId": "3462bcc5-d000-429e-8b47-d2c82cc94660"
      },
      "outputs": [
        {
          "name": "stdout",
          "output_type": "stream",
          "text": [
            "Подлежащее: ёлочка\n",
            "Подлежащее: она\n"
          ]
        }
      ],
      "source": [
        "for token in doc_spacy:\n",
        "    if token.dep_ == 'nsubj' and token.head.pos_ == 'VERB':\n",
        "        print(f'Подлежащее: {token}')"
      ]
    },
    {
      "cell_type": "markdown",
      "metadata": {
        "id": "q7qoPVsezR0X"
      },
      "source": [
        "---\n",
        "Можно вывести непосредственных детей узла, которые находятся слева и справа в предложении:"
      ]
    },
    {
      "cell_type": "code",
      "execution_count": null,
      "metadata": {
        "id": "A4TYL2NAzR0Z",
        "outputId": "a43d5b07-fae2-42bd-d782-a5f43a69b577"
      },
      "outputs": [
        {
          "name": "stdout",
          "output_type": "stream",
          "text": [
            "В:\tlefts (0) - [], rights (0) - []\n",
            "лесу:\tlefts (1) - ['В'], rights (0) - []\n",
            "родилась:\tlefts (1) - ['лесу'], rights (3) - ['ёлочка', 'росла', '.']\n",
            "ёлочка:\tlefts (0) - [], rights (0) - []\n",
            ",:\tlefts (0) - [], rights (0) - []\n",
            "в:\tlefts (0) - [], rights (0) - []\n",
            "лесу:\tlefts (1) - ['в'], rights (0) - []\n",
            "она:\tlefts (0) - [], rights (0) - []\n",
            "росла:\tlefts (3) - [',', 'лесу', 'она'], rights (0) - []\n",
            ".:\tlefts (0) - [], rights (0) - []\n"
          ]
        }
      ],
      "source": [
        "for token in doc_spacy:\n",
        "    lefts = [t.text for t in token.lefts]\n",
        "    rights = [t.text for t in token.rights]\n",
        "    print(f'{token}:\\tlefts ({token.n_lefts}) - {lefts}, rights ({token.n_rights}) - {rights}')"
      ]
    },
    {
      "cell_type": "markdown",
      "metadata": {
        "id": "5ThyWmJgzR0b"
      },
      "source": [
        "---\n",
        "Можно вывести всех родителей и детей узла:"
      ]
    },
    {
      "cell_type": "code",
      "execution_count": null,
      "metadata": {
        "id": "swB1N7SnzR0e",
        "outputId": "cb21bdbb-efce-4d39-a8a0-3fccfae273a9"
      },
      "outputs": [
        {
          "name": "stdout",
          "output_type": "stream",
          "text": [
            "В:\t[лесу, родилась]\t[]\n",
            "лесу:\t[родилась]\t[В]\n",
            "родилась:\t[]\t[лесу, ёлочка, росла, .]\n",
            "ёлочка:\t[родилась]\t[]\n",
            ",:\t[росла, родилась]\t[]\n",
            "в:\t[лесу, росла, родилась]\t[]\n",
            "лесу:\t[росла, родилась]\t[в]\n",
            "она:\t[росла, родилась]\t[]\n",
            "росла:\t[родилась]\t[,, лесу, она]\n",
            ".:\t[родилась]\t[]\n"
          ]
        }
      ],
      "source": [
        "for token in doc_spacy:\n",
        "    ancestors = [t for t in token.ancestors]\n",
        "    children = [t for t in token.children]\n",
        "    print(f'{token}:\\t{ancestors}\\t{children}')"
      ]
    },
    {
      "cell_type": "markdown",
      "metadata": {
        "id": "d8LV3mnfzR0g"
      },
      "source": [
        "## Stanza\n",
        "В `Stanza` [синтаксический парсер](https://stanfordnlp.github.io/stanza/depparse.html) реализован в классе `DepparseProcessor` и вызывается с использованием ключевого слова `depparse`.  \n",
        "До вызова синтаксического парсера должны быть вызваны обработчики (processors):\n",
        "- `TokenizeProcessor` (`tokenize`)\n",
        "- `POSProcessor` (`pos`)\n",
        "- `LemmaProcessor` (`lemma`)"
      ]
    },
    {
      "cell_type": "code",
      "execution_count": null,
      "metadata": {
        "id": "2-pNepfLzR0j"
      },
      "outputs": [],
      "source": [
        "import stanza"
      ]
    },
    {
      "cell_type": "code",
      "execution_count": null,
      "metadata": {
        "id": "KpVrNKFvzR0l",
        "outputId": "176308c5-ae73-48f1-fcad-109988043d03"
      },
      "outputs": [
        {
          "name": "stderr",
          "output_type": "stream",
          "text": [
            "2021-05-17 20:52:59 INFO: Loading these models for language: ru (Russian):\n",
            "=========================\n",
            "| Processor | Package   |\n",
            "-------------------------\n",
            "| tokenize  | syntagrus |\n",
            "| pos       | syntagrus |\n",
            "| lemma     | syntagrus |\n",
            "| depparse  | syntagrus |\n",
            "=========================\n",
            "\n",
            "2021-05-17 20:52:59 INFO: Use device: gpu\n",
            "2021-05-17 20:52:59 INFO: Loading: tokenize\n",
            "2021-05-17 20:53:00 INFO: Loading: pos\n",
            "2021-05-17 20:53:00 INFO: Loading: lemma\n",
            "2021-05-17 20:53:00 INFO: Loading: depparse\n",
            "2021-05-17 20:53:00 INFO: Done loading processors!\n"
          ]
        }
      ],
      "source": [
        "nlp_stanza = stanza.Pipeline(lang='ru', processors='tokenize,pos,lemma,depparse')"
      ]
    },
    {
      "cell_type": "code",
      "execution_count": null,
      "metadata": {
        "id": "Lu0KLQYXzR0n"
      },
      "outputs": [],
      "source": [
        "doc_stanza = nlp_stanza(text)"
      ]
    },
    {
      "cell_type": "code",
      "execution_count": null,
      "metadata": {
        "id": "Djt4Ulq8zR0p",
        "outputId": "2d0d36f9-80be-4d98-f02f-5f35e0824431"
      },
      "outputs": [
        {
          "name": "stdout",
          "output_type": "stream",
          "text": [
            "ID токена  Токен     ID родителя  Родитель  Связь     \n",
            "\n",
            "1          В         2            лесу      case      \n",
            "2          лесу      3            родилась  obl       \n",
            "3          родилась  0            root      root      \n",
            "4          ёлочка    3            родилась  nsubj     \n",
            "5          ,         9            росла     punct     \n",
            "6          в         7            лесу      case      \n",
            "7          лесу      9            росла     obl       \n",
            "8          она       9            росла     nsubj     \n",
            "9          росла     3            родилась  conj      \n",
            "10         .         3            родилась  punct     \n"
          ]
        }
      ],
      "source": [
        "max_length = max([len(word.text) for sent in doc_stanza.sentences for word in sent.words])\n",
        "print_heading(max_length)\n",
        "\n",
        "for sent in doc_stanza.sentences:\n",
        "    for word in sent.words:\n",
        "        head = sent.words[word.head-1].text if word.head > 0 else 'root'\n",
        "        print_token_result(token_id=word.id, token=word.text, parent_id=word.head, parent=head, dep=word.deprel, max_length=max_length)"
      ]
    },
    {
      "cell_type": "code",
      "execution_count": null,
      "metadata": {
        "id": "wAqRtoN_zR0r"
      },
      "outputs": [],
      "source": [
        ""
      ]
    },
    {
      "cell_type": "markdown",
      "metadata": {
        "id": "pbDGsJKEzR0t"
      },
      "source": [
        "## Natasha\n",
        "Проект `Natasha` содержит библиотеки и компоненты для решения базовых задач обработки русского языка: сегментация на токены и предложения, морфологический и синтаксический анализ, извлечение именованных сущностей:\n",
        "* [Github](https://natasha.github.io)\n",
        "* [Статья на Хабре](https://habr.com/ru/post/516098/)\n",
        "* [Инструкция по установке](https://github.com/natasha/natasha#install)"
      ]
    },
    {
      "cell_type": "code",
      "execution_count": null,
      "metadata": {
        "id": "XF2HGYVMzR0v"
      },
      "outputs": [],
      "source": [
        "from ipymarkup import show_dep_ascii_markup as show_markup\n",
        "from razdel import sentenize, tokenize\n",
        "from navec import Navec\n",
        "from slovnet import Syntax"
      ]
    },
    {
      "cell_type": "markdown",
      "metadata": {
        "id": "6OhK1nRTzR0w"
      },
      "source": [
        "Синтаксический анализ реализован в библиотеке `SlovNet` ([Github](https://github.com/natasha/slovnet)).  \n",
        "Предварительно требуется скачать файл модели для синтаксиса и поместить его в папку с ноутбуком:\n",
        "- [slovnet_syntax_news_v1.tar](https://storage.yandexcloud.net/natasha-slovnet/packs/slovnet_syntax_news_v1.tar) (2.5 MB)."
      ]
    },
    {
      "cell_type": "code",
      "execution_count": null,
      "metadata": {
        "id": "zxoeusSpzR0x"
      },
      "outputs": [],
      "source": [
        "syntax_natasha = Syntax.load('slovnet_syntax_news_v1.tar')"
      ]
    },
    {
      "cell_type": "markdown",
      "metadata": {
        "id": "1JPfMzouzR0y"
      },
      "source": [
        "---\n",
        "Также для синтаксического анализа потребуется [Navec](https://github.com/natasha/navec) – библиотека предобученных эмбеддингов для русского языка.  \n",
        "Доступны [две модели](https://github.com/natasha/navec#downloads):\n",
        "- [navec_hudlit_v1_12B_500K_300d_100q.tar](https://storage.yandexcloud.net/natasha-navec/packs/navec_hudlit_v1_12B_500K_300d_100q.tar) (50 MB) – обучена на литературном корпусе с librusec (150 Гб); предлагается использовать по умолчанию.\n",
        "- [navec_news_v1_1B_250K_300d_100q](https://storage.yandexcloud.net/natasha-navec/packs/navec_news_v1_1B_250K_300d_100q.tar) (25 MB) – обучена на новостном корпусе.\n",
        "\n",
        "Модели нужно предварительно скачать и поместить в папку с ноутбуком:"
      ]
    },
    {
      "cell_type": "code",
      "execution_count": null,
      "metadata": {
        "id": "nP7NVmEizR01"
      },
      "outputs": [],
      "source": [
        "navec = Navec.load('navec_news_v1_1B_250K_300d_100q.tar')\n",
        "# navec = Navec.load('navec_hudlit_v1_12B_500K_300d_100q.tar')"
      ]
    },
    {
      "cell_type": "code",
      "execution_count": null,
      "metadata": {
        "id": "uAy13TB5zR02"
      },
      "outputs": [],
      "source": [
        "syntax_natasha.navec(navec);"
      ]
    },
    {
      "cell_type": "markdown",
      "metadata": {
        "id": "Wl02lGXRzR03"
      },
      "source": [
        "Перед синтаксическим анализом необходимо осуществить сегментацию текста на предложения и токенизацию:"
      ]
    },
    {
      "cell_type": "code",
      "execution_count": null,
      "metadata": {
        "id": "CXjCPRfazR04",
        "outputId": "85ac45a8-55e7-4909-ea42-75b72505e6af"
      },
      "outputs": [
        {
          "name": "stdout",
          "output_type": "stream",
          "text": [
            "Количество предложений: 1\n",
            "Токены первого предложения: ['В', 'лесу', 'родилась', 'ёлочка', ',', 'в', 'лесу', 'она', 'росла', '.']\n"
          ]
        }
      ],
      "source": [
        "chunks = []\n",
        "for sent in sentenize(text):\n",
        "    tokens = [_.text for _ in tokenize(sent.text)]\n",
        "    chunks.append(tokens)\n",
        "print(f'Количество предложений: {len(chunks)}')\n",
        "print(f'Токены первого предложения: {chunks[0]}')"
      ]
    },
    {
      "cell_type": "markdown",
      "metadata": {
        "id": "teYlXPkUzR06"
      },
      "source": [
        "---\n",
        "Осуществляем синтаксический анализ:"
      ]
    },
    {
      "cell_type": "code",
      "execution_count": null,
      "metadata": {
        "id": "P46oFlzyzR08"
      },
      "outputs": [],
      "source": [
        "markup = next(syntax_natasha.map(chunks))"
      ]
    },
    {
      "cell_type": "code",
      "execution_count": null,
      "metadata": {
        "id": "WSxo_5dnzR0-",
        "outputId": "5f34d8e3-cd41-4c9b-b701-9de004c1e8ef"
      },
      "outputs": [
        {
          "name": "stdout",
          "output_type": "stream",
          "text": [
            "ID токена  Токен     ID родителя  Родитель  Связь     \n",
            "\n",
            "1          В         2            лесу      case      \n",
            "2          лесу      3            родилась  obl       \n",
            "3          родилась  0            root      root      \n",
            "4          ёлочка    3            родилась  nsubj     \n",
            "5          ,         9            росла     punct     \n",
            "6          в         7            лесу      case      \n",
            "7          лесу      9            росла     obl       \n",
            "8          она       9            росла     nsubj     \n",
            "9          росла     3            родилась  conj      \n",
            "10         .         3            родилась  punct     \n"
          ]
        }
      ],
      "source": [
        "max_length = max([len(token.text) for token in markup.tokens])\n",
        "print_heading(max_length)\n",
        "\n",
        "for token in markup.tokens:\n",
        "    head = markup.tokens[int(token.head_id)-1].text if int(token.head_id) > 0 else 'root'\n",
        "    print_token_result(token_id=token.id, token=token.text, parent_id=token.head_id, parent=head, dep=token.rel, max_length=max_length)"
      ]
    },
    {
      "cell_type": "markdown",
      "metadata": {
        "id": "aoR2BsP9zR1B"
      },
      "source": [
        "---\n",
        "Для удобного представления результатов можно воспользоваться библиотекой визуализации [`Ipymarkup`](https://github.com/natasha/ipymarkup):"
      ]
    },
    {
      "cell_type": "code",
      "execution_count": null,
      "metadata": {
        "id": "WtN-F_JezR1D",
        "outputId": "85b596fd-5eae-4bfc-edc1-2e9e9241305d"
      },
      "outputs": [
        {
          "name": "stdout",
          "output_type": "stream",
          "text": [
            "        ┌► В        case\n",
            "      ┌►└─ лесу     obl\n",
            "┌─┌───└─┌─ родилась \n",
            "│ │     └► ёлочка   nsubj\n",
            "│ │ ┌────► ,        punct\n",
            "│ │ │   ┌► в        case\n",
            "│ │ │ ┌►└─ лесу     obl\n",
            "│ │ │ │ ┌► она      nsubj\n",
            "│ └►└─└─└─ росла    conj\n",
            "└────────► .        punct\n"
          ]
        }
      ],
      "source": [
        "words, deps = [], []\n",
        "for token in markup.tokens:\n",
        "    words.append(token.text)\n",
        "    source = int(token.head_id) - 1\n",
        "    target = int(token.id) - 1\n",
        "    if source >= 0 and source != target:  # skip root, loops\n",
        "        deps.append([source, target, token.rel])\n",
        "show_markup(words, deps)"
      ]
    },
    {
      "cell_type": "markdown",
      "metadata": {
        "id": "ZsAFZ1yCzR1F"
      },
      "source": [
        "## Сравнение\n",
        "Авторы проекта `Natasha` проводили [сравнение](https://github.com/natasha/naeval#syntax-parser) синтаксических парсеров на разных корпусах.  \n",
        "\n",
        "В этом разделе приводятся результаты парсеров на разных примерах:"
      ]
    },
    {
      "cell_type": "code",
      "execution_count": null,
      "metadata": {
        "id": "op4W_0LFzR1H",
        "outputId": "39bfe81f-6b3b-45ad-84c0-8e72a2e82f11"
      },
      "outputs": [
        {
          "name": "stdout",
          "output_type": "stream",
          "text": [
            "В лесу родилась ёлочка, в лесу она росла.\n",
            "\n",
            "\tspaCy:\n",
            "\tID токена  Токен     ID родителя  Родитель  Связь     \n",
            "\n",
            "\t1          В         2            лесу      case      \n",
            "\t2          лесу      3            родилась  obl       \n",
            "\t3          родилась  3            родилась  ROOT      \n",
            "\t4          ёлочка    3            родилась  nsubj     \n",
            "\t5          ,         9            росла     punct     \n",
            "\t6          в         7            лесу      case      \n",
            "\t7          лесу      9            росла     obl       \n",
            "\t8          она       9            росла     nsubj     \n",
            "\t9          росла     3            родилась  conj      \n",
            "\t10         .         3            родилась  punct     \n",
            "\n",
            "\n",
            "\tstanza:\n",
            "\tID токена  Токен     ID родителя  Родитель  Связь     \n",
            "\n",
            "\t1          В         2            лесу      case      \n",
            "\t2          лесу      3            родилась  obl       \n",
            "\t3          родилась  0            root      root      \n",
            "\t4          ёлочка    3            родилась  nsubj     \n",
            "\t5          ,         9            росла     punct     \n",
            "\t6          в         7            лесу      case      \n",
            "\t7          лесу      9            росла     obl       \n",
            "\t8          она       9            росла     nsubj     \n",
            "\t9          росла     3            родилась  conj      \n",
            "\t10         .         3            родилась  punct     \n",
            "\n",
            "\n",
            "\tNatasha:\n",
            "\tID токена  Токен     ID родителя  Родитель  Связь     \n",
            "\n",
            "\t1          В         2            лесу      case      \n",
            "\t2          лесу      3            родилась  obl       \n",
            "\t3          родилась  0            root      root      \n",
            "\t4          ёлочка    3            родилась  nsubj     \n",
            "\t5          ,         9            росла     punct     \n",
            "\t6          в         7            лесу      case      \n",
            "\t7          лесу      9            росла     obl       \n",
            "\t8          она       9            росла     nsubj     \n",
            "\t9          росла     3            родилась  conj      \n",
            "\t10         .         3            родилась  punct     \n",
            "\n",
            "\n",
            "-----------------------------------------------------------------------\n",
            "Простое предложение\n",
            "\n",
            "\tspaCy:\n",
            "\tID токена  Токен        ID родителя  Родитель     Связь     \n",
            "\n",
            "\t1          Простое      2            предложение  amod      \n",
            "\t2          предложение  2            предложение  ROOT      \n",
            "\n",
            "\n",
            "\tstanza:\n",
            "\tID токена  Токен        ID родителя  Родитель     Связь     \n",
            "\n",
            "\t1          Простое      2            предложение  amod      \n",
            "\t2          предложение  0            root         root      \n",
            "\n",
            "\n",
            "\tNatasha:\n",
            "\tID токена  Токен        ID родителя  Родитель     Связь     \n",
            "\n",
            "\t1          Простое      2            предложение  amod      \n",
            "\t2          предложение  0            root         root      \n",
            "\n",
            "\n",
            "-----------------------------------------------------------------------\n",
            "Одно простое предложение и второе простое предложение.\n",
            "\n",
            "\tspaCy:\n",
            "\tID токена  Токен        ID родителя  Родитель     Связь     \n",
            "\n",
            "\t1          Одно         3            предложение  nummod    \n",
            "\t2          простое      3            предложение  amod      \n",
            "\t3          предложение  3            предложение  ROOT      \n",
            "\t4          и            7            предложение  cc        \n",
            "\t5          второе       7            предложение  amod      \n",
            "\t6          простое      7            предложение  amod      \n",
            "\t7          предложение  3            предложение  conj      \n",
            "\t8          .            3            предложение  punct     \n",
            "\n",
            "\n",
            "\tstanza:\n",
            "\tID токена  Токен        ID родителя  Родитель     Связь     \n",
            "\n",
            "\t1          Одно         3            предложение  nummod:gov\n",
            "\t2          простое      3            предложение  amod      \n",
            "\t3          предложение  0            root         root      \n",
            "\t4          и            7            предложение  cc        \n",
            "\t5          второе       7            предложение  amod      \n",
            "\t6          простое      7            предложение  amod      \n",
            "\t7          предложение  3            предложение  conj      \n",
            "\t8          .            3            предложение  punct     \n",
            "\n",
            "\n",
            "\tNatasha:\n",
            "\tID токена  Токен        ID родителя  Родитель     Связь     \n",
            "\n",
            "\t1          Одно         3            предложение  nummod    \n",
            "\t2          простое      3            предложение  amod      \n",
            "\t3          предложение  3            предложение  nsubj     \n",
            "\t4          и            5            второе       cc        \n",
            "\t5          второе       7            предложение  amod      \n",
            "\t6          простое      7            предложение  amod      \n",
            "\t7          предложение  3            предложение  conj      \n",
            "\t8          .            3            предложение  punct     \n",
            "\n",
            "\n",
            "-----------------------------------------------------------------------\n",
            "Я всегда прихожу на пары вовремя, но не в этот четверг.\n",
            "\n",
            "\tspaCy:\n",
            "\tID токена  Токен     ID родителя  Родитель  Связь     \n",
            "\n",
            "\t1          Я         3            прихожу   nsubj     \n",
            "\t2          всегда    3            прихожу   advmod    \n",
            "\t3          прихожу   3            прихожу   ROOT      \n",
            "\t4          на        5            пары      case      \n",
            "\t5          пары      3            прихожу   obl       \n",
            "\t6          вовремя   3            прихожу   advmod    \n",
            "\t7          ,         12           четверг   punct     \n",
            "\t8          но        12           четверг   cc        \n",
            "\t9          не        12           четверг   advmod    \n",
            "\t10         в         12           четверг   case      \n",
            "\t11         этот      12           четверг   det       \n",
            "\t12         четверг   6            вовремя   conj      \n",
            "\t13         .         3            прихожу   punct     \n",
            "\n",
            "\n",
            "\tstanza:\n",
            "\tID токена  Токен     ID родителя  Родитель  Связь     \n",
            "\n",
            "\t1          Я         3            прихожу   nsubj     \n",
            "\t2          всегда    3            прихожу   advmod    \n",
            "\t3          прихожу   0            root      root      \n",
            "\t4          на        5            пары      case      \n",
            "\t5          пары      3            прихожу   obl       \n",
            "\t6          вовремя   3            прихожу   advmod    \n",
            "\t7          ,         12           четверг   punct     \n",
            "\t8          но        12           четверг   cc        \n",
            "\t9          не        12           четверг   advmod    \n",
            "\t10         в         12           четверг   case      \n",
            "\t11         этот      12           четверг   det       \n",
            "\t12         четверг   6            вовремя   conj      \n",
            "\t13         .         3            прихожу   punct     \n",
            "\n",
            "\n",
            "\tNatasha:\n",
            "\tID токена  Токен     ID родителя  Родитель  Связь     \n",
            "\n",
            "\t1          Я         3            прихожу   nsubj     \n",
            "\t2          всегда    3            прихожу   advmod    \n",
            "\t3          прихожу   0            root      root      \n",
            "\t4          на        5            пары      case      \n",
            "\t5          пары      3            прихожу   obl       \n",
            "\t6          вовремя   3            прихожу   advmod    \n",
            "\t7          ,         12           четверг   punct     \n",
            "\t8          но        12           четверг   cc        \n",
            "\t9          не        12           четверг   advmod    \n",
            "\t10         в         12           четверг   case      \n",
            "\t11         этот      12           четверг   det       \n",
            "\t12         четверг   3            прихожу   obl       \n",
            "\t13         .         3            прихожу   punct     \n",
            "\n",
            "\n",
            "-----------------------------------------------------------------------\n",
            "Мама мыла раму\n",
            "\n",
            "\tspaCy:\n",
            "\tID токена  Токен     ID родителя  Родитель  Связь     \n",
            "\n",
            "\t1          Мама      2            мыла      nsubj     \n",
            "\t2          мыла      2            мыла      ROOT      \n",
            "\t3          раму      2            мыла      obj       \n",
            "\n",
            "\n",
            "\tstanza:\n",
            "\tID токена  Токен     ID родителя  Родитель  Связь     \n",
            "\n",
            "\t1          Мама      0            root      root      \n",
            "\t2          мыла      1            Мама      nmod      \n",
            "\t3          раму      1            Мама      nmod      \n",
            "\n",
            "\n",
            "\tNatasha:\n",
            "\tID токена  Токен     ID родителя  Родитель  Связь     \n",
            "\n",
            "\t1          Мама      0            root      root      \n",
            "\t2          мыла      1            Мама      nmod      \n",
            "\t3          раму      1            Мама      appos     \n",
            "\n",
            "\n",
            "-----------------------------------------------------------------------\n",
            "Никогда не говори \"Никогда\"\n",
            "\n",
            "\tspaCy:\n",
            "\tID токена  Токен     ID родителя  Родитель  Связь     \n",
            "\n",
            "\t1          Никогда   3            говори    advmod    \n",
            "\t2          не        3            говори    advmod    \n",
            "\t3          говори    3            говори    ROOT      \n",
            "\t4          \"         5            Никогда   punct     \n",
            "\t5          Никогда   3            говори    advmod    \n",
            "\t6          \"         5            Никогда   punct     \n",
            "\n",
            "\n",
            "\tstanza:\n",
            "\tID токена  Токен     ID родителя  Родитель  Связь     \n",
            "\n",
            "\t1          Никогда   3            говори    advmod    \n",
            "\t2          не        3            говори    advmod    \n",
            "\t3          говори    0            root      root      \n",
            "\t4          \"         5            Никогда   punct     \n",
            "\t5          Никогда   3            говори    advmod    \n",
            "\t6          \"         5            Никогда   punct     \n",
            "\n",
            "\n",
            "\tNatasha:\n",
            "\tID токена  Токен     ID родителя  Родитель  Связь     \n",
            "\n",
            "\t1          Никогда   3            говори    advmod    \n",
            "\t2          не        3            говори    advmod    \n",
            "\t3          говори    0            root      root      \n",
            "\t4          \"         5            Никогда   punct     \n",
            "\t5          Никогда   3            говори    parataxis \n",
            "\t6          \"         5            Никогда   punct     \n",
            "\n",
            "\n",
            "-----------------------------------------------------------------------\n",
            "Как тебе такое, Илон Маск?\n",
            "\n",
            "\tspaCy:\n",
            "\tID токена  Токен     ID родителя  Родитель  Связь     \n",
            "\n",
            "\t1          Как       2            тебе      mark      \n",
            "\t2          тебе      5            Илон      parataxis \n",
            "\t3          такое     2            тебе      det       \n",
            "\t4          ,         5            Илон      punct     \n",
            "\t5          Илон      5            Илон      ROOT      \n",
            "\t6          Маск      5            Илон      flat:name \n",
            "\t7          ?         5            Илон      punct     \n",
            "\n",
            "\n",
            "\tstanza:\n",
            "\tID токена  Токен     ID родителя  Родитель  Связь     \n",
            "\n",
            "\t1          Как       0            root      root      \n",
            "\t2          тебе      1            Как       iobj      \n",
            "\t3          такое     1            Как       det       \n",
            "\t4          ,         5            Илон      punct     \n",
            "\t5          Илон      1            Как       parataxis \n",
            "\t6          Маск      5            Илон      flat:name \n",
            "\t7          ?         1            Как       punct     \n",
            "\n",
            "\n",
            "\tNatasha:\n",
            "\tID токена  Токен     ID родителя  Родитель  Связь     \n",
            "\n",
            "\t1          Как       2            тебе      mark      \n",
            "\t2          тебе      2            тебе      iobj      \n",
            "\t3          такое     2            тебе      det       \n",
            "\t4          ,         2            тебе      punct     \n",
            "\t5          Илон      5            Илон      appos     \n",
            "\t6          Маск      5            Илон      flat:name \n",
            "\t7          ?         2            тебе      punct     \n",
            "\n",
            "\n",
            "-----------------------------------------------------------------------\n",
            "У меня все друзья решили сюда прийти еще не раз.\n",
            "\n",
            "\tspaCy:\n",
            "\tID токена  Токен     ID родителя  Родитель  Связь     \n",
            "\n",
            "\t1          У         2            меня      case      \n",
            "\t2          меня      5            решили    obl       \n",
            "\t3          все       4            друзья    det       \n",
            "\t4          друзья    5            решили    nsubj     \n",
            "\t5          решили    5            решили    ROOT      \n",
            "\t6          сюда      7            прийти    advmod    \n",
            "\t7          прийти    5            решили    xcomp     \n",
            "\t8          еще       10           раз       advmod    \n",
            "\t9          не        10           раз       advmod    \n",
            "\t10         раз       7            прийти    obl       \n",
            "\t11         .         5            решили    punct     \n",
            "\n",
            "\n",
            "\tstanza:\n",
            "\tID токена  Токен     ID родителя  Родитель  Связь     \n",
            "\n",
            "\t1          У         2            меня      case      \n",
            "\t2          меня      5            решили    obl       \n",
            "\t3          все       4            друзья    det       \n",
            "\t4          друзья    5            решили    nsubj     \n",
            "\t5          решили    0            root      root      \n",
            "\t6          сюда      7            прийти    advmod    \n",
            "\t7          прийти    5            решили    xcomp     \n",
            "\t8          еще       10           раз.      advmod    \n",
            "\t9          не        10           раз.      advmod    \n",
            "\t10         раз.      7            прийти    advmod    \n",
            "\n",
            "\n",
            "\tNatasha:\n",
            "\tID токена  Токен     ID родителя  Родитель  Связь     \n",
            "\n",
            "\t1          У         2            меня      case      \n",
            "\t2          меня      5            решили    obl       \n",
            "\t3          все       4            друзья    det       \n",
            "\t4          друзья    5            решили    nsubj     \n",
            "\t5          решили    0            root      root      \n",
            "\t6          сюда      7            прийти    advmod    \n",
            "\t7          прийти    5            решили    xcomp     \n",
            "\t8          еще       10           раз       advmod    \n",
            "\t9          не        10           раз       advmod    \n",
            "\t10         раз       7            прийти    obl       \n",
            "\t11         .         5            решили    punct     \n",
            "\n",
            "\n",
            "-----------------------------------------------------------------------\n"
          ]
        }
      ],
      "source": [
        "for text in texts:\n",
        "\n",
        "    print(f'{text}\\n')\n",
        "    \n",
        "    # spaCy\n",
        "    \n",
        "    print('\\tspaCy:')\n",
        "    doc_spacy = nlp_spacy(text)\n",
        "\n",
        "    max_length = max([len(token) for token in doc_spacy])\n",
        "    print_heading(max_length, prefix='\\t')\n",
        "\n",
        "    for token in doc_spacy:\n",
        "        print_token_result(token_id=token.i+1, token=token.text, parent_id=token.head.i+1, parent=token.head.text, dep=token.dep_, max_length=max_length, prefix='\\t')\n",
        "        \n",
        "    print('\\n')\n",
        "        \n",
        "    # Stanza\n",
        "    \n",
        "    print('\\tstanza:')\n",
        "    doc_stanza = nlp_stanza(text)\n",
        "    \n",
        "    max_length = max([len(word.text) for sent in doc_stanza.sentences for word in sent.words])\n",
        "    print_heading(max_length, prefix='\\t')\n",
        "\n",
        "    for sent in doc_stanza.sentences:\n",
        "        for word in sent.words:\n",
        "            head = sent.words[word.head-1].text if word.head > 0 else 'root'\n",
        "            print_token_result(token_id=word.id, token=word.text, parent_id=word.head, parent=head, dep=word.deprel, max_length=max_length, prefix='\\t')\n",
        "            \n",
        "    print('\\n')\n",
        "    \n",
        "    # Natasha\n",
        "    \n",
        "    print('\\tNatasha:')\n",
        "    \n",
        "    chunks = []\n",
        "    for sent in sentenize(text):\n",
        "        tokens = [_.text for _ in tokenize(sent.text)]\n",
        "        chunks.append(tokens)\n",
        "    \n",
        "    markup = next(syntax_natasha.map(chunks))\n",
        "    \n",
        "    max_length = max([len(token.text) for token in markup.tokens])\n",
        "    print_heading(max_length, prefix='\\t')\n",
        "\n",
        "    for token in markup.tokens:\n",
        "        head = markup.tokens[int(token.head_id)-1].text if int(token.head_id) > 0 else 'root'\n",
        "        print_token_result(token_id=token.id, token=token.text, parent_id=token.head_id, parent=head, dep=token.rel, max_length=max_length, prefix='\\t')\n",
        "    \n",
        "    print('\\n')\n",
        "        \n",
        "    print('-----------------------------------------------------------------------')"
      ]
    }
  ],
  "metadata": {
    "kernelspec": {
      "display_name": "Python 3",
      "language": "python",
      "name": "python3"
    },
    "language_info": {
      "codemirror_mode": {
        "name": "ipython",
        "version": 3
      },
      "file_extension": ".py",
      "mimetype": "text/x-python",
      "name": "python",
      "nbconvert_exporter": "python",
      "pygments_lexer": "ipython3",
      "version": "3.8.5"
    },
    "colab": {
      "name": "syntax.ipynb",
      "provenance": []
    }
  },
  "nbformat": 4,
  "nbformat_minor": 0
}