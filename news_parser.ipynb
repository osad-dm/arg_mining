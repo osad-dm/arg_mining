{
  "nbformat": 4,
  "nbformat_minor": 0,
  "metadata": {
    "colab": {
      "name": "news_parser.ipynb",
      "provenance": [],
      "collapsed_sections": [
        "ro1Z15_cq5wr"
      ]
    },
    "kernelspec": {
      "display_name": "Python 3",
      "language": "python",
      "name": "python3"
    },
    "language_info": {
      "codemirror_mode": {
        "name": "ipython",
        "version": 3
      },
      "file_extension": ".py",
      "mimetype": "text/x-python",
      "name": "python",
      "nbconvert_exporter": "python",
      "pygments_lexer": "ipython3",
      "version": "3.8.3"
    }
  },
  "cells": [
    {
      "cell_type": "code",
      "metadata": {
        "id": "PAO9u4qHdtd8"
      },
      "source": [
        "import urllib.request as lib\n",
        "import requests\n",
        "import json\n",
        "import os\n",
        "import re\n",
        "from collections import namedtuple\n",
        "import pandas as pd\n",
        "import numpy as np\n",
        "import urllib"
      ],
      "execution_count": null,
      "outputs": []
    },
    {
      "cell_type": "code",
      "metadata": {
        "id": "I5BuZ3WL9-T-",
        "colab": {
          "base_uri": "https://localhost:8080/"
        },
        "outputId": "84717e3e-16de-4c8a-aa62-176f6fe1dda4"
      },
      "source": [
        "from google.colab import drive \n",
        "drive.mount('/content/drive')"
      ],
      "execution_count": null,
      "outputs": [
        {
          "output_type": "stream",
          "text": [
            "Mounted at /content/drive\n"
          ],
          "name": "stdout"
        }
      ]
    },
    {
      "cell_type": "markdown",
      "metadata": {
        "id": "ro1Z15_cq5wr"
      },
      "source": [
        "# Сбор"
      ]
    },
    {
      "cell_type": "code",
      "metadata": {
        "id": "3u4Tbu79G82S"
      },
      "source": [
        "from bs4 import BeautifulSoup\n",
        "from time import time\n",
        "import re\n",
        "from datetime import datetime\n"
      ],
      "execution_count": null,
      "outputs": []
    },
    {
      "cell_type": "code",
      "metadata": {
        "id": "ZUYYmhd5fkbI"
      },
      "source": [
        "df_news_1 = pd.read_json(\"/content/drive/MyDrive/praka/news_v3/news_v5_bankiru_fin_nd.json\")\n",
        "df_news = pd.read_json(\"drive/My Drive/praka/paper/news_2308.json\")"
      ],
      "execution_count": null,
      "outputs": []
    },
    {
      "cell_type": "code",
      "metadata": {
        "id": "Xdp5dPGe5h-B"
      },
      "source": [
        "df_news"
      ],
      "execution_count": null,
      "outputs": []
    },
    {
      "cell_type": "code",
      "metadata": {
        "id": "csM2Agptso5F"
      },
      "source": [
        "news_number = 0\n",
        "start_time = time()\n",
        "for i in range(0, 4000): \n",
        "  try:\n",
        "    s = lib.urlopen(\"https://www.banki.ru/news/lenta/?id=\" + str(10900775-i))\n",
        "  except:\n",
        "    print('HEY', str(i))\n",
        "    continue\n",
        "  s_text = s.read().decode()\n",
        "\n",
        "  news_object = {}\n",
        "  soup = BeautifulSoup(s_text, 'html.parser')\n",
        "\n",
        "  news_object.update({\"id\":'1094' + str(i)})\n",
        "  try:\n",
        "    news_text = ' '.join(list(map(str, soup.find_all(class_=\"article-text plain-text markup-inside lenta\")[0].contents)))\n",
        "    news_object.update({\"text\": news_text})\n",
        "  except:\n",
        "    print('HEY', str(i))\n",
        "    continue\n",
        "\n",
        "  try:\n",
        "    news_theme = re.findall(patt, str(soup.find_all(class_=\"bread-crumbs__item\")[6]))[0]\n",
        "    news_object.update({\"theme\": news_theme})\n",
        "  except:\n",
        "    news_object.update({\"theme\": 'NoTheme'})\n",
        "    print('HEY1', str(i))\n",
        "  try:\n",
        "    news_source = soup.find_all(class_=\"margin-top-x-small\")[0].a.contents[0]\n",
        "    news_object.update({\"source\": news_source})\n",
        "  except:\n",
        "    news_object.update({\"source\": 'NoSource'})\n",
        "    print('HEY2', str(i))\n",
        "\n",
        "  news_date = soup.find_all('time')[0].text\n",
        "  news_object.update({\"date\": news_date})\n",
        "  \n",
        "  try:\n",
        "    news_topic = soup.find_all(class_=\"header-h0\")[0].text\n",
        "    news_object.update({\"topic\": news_topic})\n",
        "  except:\n",
        "    news_object.update({\"topic\": 'NoTopic'})\n",
        "\n",
        "  news_list.append(news_object)\n",
        "  news_number = news_number+1\n",
        "\n",
        "  if len(news_list) % 100 == 0:\n",
        "    print('Done:' + str(news_number) + '/')\n",
        "    print(f'Time: {time() - start_time:.1f} sec\\n')\n",
        "  if len(news_list) % 500 == 0:\n",
        "    print('Done:' + str(len(news_list)))\n",
        "    with open('/content/drive/MyDrive/praka/news_v3/news_v4_'+str(news_number)+'.json', 'w', encoding='utf-8') as f:\n",
        "      json.dump(news_list, f, ensure_ascii=False)\n",
        "    news_list = []\n",
        "    print(f'Time: {time() - start_time:.1f} sec\\n Saved\\n')"
      ],
      "execution_count": null,
      "outputs": []
    },
    {
      "cell_type": "code",
      "metadata": {
        "colab": {
          "base_uri": "https://localhost:8080/"
        },
        "id": "TPuHI8hIzUJf",
        "outputId": "f6877bd4-a798-410e-fc45-133da63f8b7c"
      },
      "source": [
        "len(news_list)"
      ],
      "execution_count": null,
      "outputs": [
        {
          "output_type": "execute_result",
          "data": {
            "text/plain": [
              "277"
            ]
          },
          "metadata": {
            "tags": []
          },
          "execution_count": 114
        }
      ]
    },
    {
      "cell_type": "code",
      "metadata": {
        "id": "RAoCB4QPftYr"
      },
      "source": [
        "n_list = []\n",
        "fl = ['500', '1000', '1500', '2000', '2500']"
      ],
      "execution_count": null,
      "outputs": []
    },
    {
      "cell_type": "code",
      "metadata": {
        "id": "Neq-3cRofa5b"
      },
      "source": [
        "for i in fl:  \n",
        "  with open('/content/drive/MyDrive/praka/news_v3/news_v4_'+i+'.json', 'r', encoding=\"utf-8\") as f:\n",
        "    a = json.load(f)\n",
        "  n_list = n_list + a"
      ],
      "execution_count": null,
      "outputs": []
    },
    {
      "cell_type": "code",
      "metadata": {
        "colab": {
          "base_uri": "https://localhost:8080/"
        },
        "id": "Il_uAWzUff3n",
        "outputId": "41ab2d76-149b-4c46-a4ae-4469b0ca2779"
      },
      "source": [
        "len(n_list)"
      ],
      "execution_count": null,
      "outputs": [
        {
          "output_type": "execute_result",
          "data": {
            "text/plain": [
              "2500"
            ]
          },
          "metadata": {
            "tags": []
          },
          "execution_count": 8
        }
      ]
    },
    {
      "cell_type": "code",
      "metadata": {
        "id": "TjwqspOFS6-9"
      },
      "source": [
        "with open('/content/drive/MyDrive/praka/news_v3/news_v4_news_bankiru.json', 'w', encoding='utf-8') as f:\n",
        "  json.dump(n_list, f, ensure_ascii=False)"
      ],
      "execution_count": null,
      "outputs": []
    },
    {
      "cell_type": "code",
      "metadata": {
        "id": "paXxFGY4OOWK"
      },
      "source": [
        "with open('/content/drive/MyDrive/praka/news_v3/news_v4_news_bankiru.json', 'r', encoding=\"utf-8\") as f:\n",
        "    aaaa = json.load(f)"
      ],
      "execution_count": null,
      "outputs": []
    },
    {
      "cell_type": "code",
      "metadata": {
        "id": "dShQSAtkQ5ve"
      },
      "source": [
        "news_number = 0\n",
        "urls = []\n",
        "start_time = time()\n",
        "for i in df_news.iterrows(): \n",
        "  search_text = i[1].text\n",
        "  try:\n",
        "    s = lib.urlopen(\"https://www.banki.ru/search/?q=\" + urllib.parse.quote_plus(search_text[0:150], encoding='cp1251')+\"&where=iblock_news&how=\", timeout=3)\n",
        "  except:\n",
        "    print('HEY1    '+search_text[0:150])\n",
        "    urls.append((i[0], 'ND'))\n",
        "    continue\n",
        "  s_text = s.read().decode(encoding='cp1251')\n",
        "\n",
        "  news_object = {}\n",
        "  try:\n",
        "    news_url = re.findall(pattern, s_text)[0]\n",
        "    urls.append((i[0], news_url))\n",
        "  except:\n",
        "    print('HEY2')\n",
        "    urls.append((i[0], 'ND'))\n",
        "    continue\n",
        "\n",
        "  "
      ],
      "execution_count": null,
      "outputs": []
    },
    {
      "cell_type": "markdown",
      "metadata": {
        "id": "J8io3F8Cq9MK"
      },
      "source": [
        "#Анализ\n"
      ]
    },
    {
      "cell_type": "code",
      "metadata": {
        "id": "vfiactKU9-UL"
      },
      "source": [
        "import pandas as pd"
      ],
      "execution_count": null,
      "outputs": []
    },
    {
      "cell_type": "markdown",
      "metadata": {
        "id": "HA6kwf3xWKX8"
      },
      "source": [
        "## Очистка"
      ]
    },
    {
      "cell_type": "code",
      "metadata": {
        "id": "UBSfif0s5754"
      },
      "source": [
        "df = pd.read_json('/content/drive/MyDrive/praka/news_v3/news_v4_bankiru_fin.json')"
      ],
      "execution_count": null,
      "outputs": []
    },
    {
      "cell_type": "code",
      "metadata": {
        "id": "NS5sBghi5XQj"
      },
      "source": [
        "df = df_news"
      ],
      "execution_count": null,
      "outputs": []
    },
    {
      "cell_type": "code",
      "metadata": {
        "id": "37MIhSRBrRh4"
      },
      "source": [
        "sss = df.source"
      ],
      "execution_count": null,
      "outputs": []
    },
    {
      "cell_type": "code",
      "metadata": {
        "id": "4NC3SobChFL2"
      },
      "source": [
        "sss"
      ],
      "execution_count": null,
      "outputs": []
    },
    {
      "cell_type": "code",
      "metadata": {
        "id": "t11GImTzhPmr"
      },
      "source": [
        "for i in range(0, len(sss)):\n",
        "  sss[i] = re.sub(\"\\n\", \"\", sss[i])\n",
        "for i in range(0, len(sss)):\n",
        "  sss[i] = re.sub(\"\\t\", \"\", sss[i])\n",
        "for i in range(0, len(sss)):\n",
        "  sss[i] = re.sub(r\" $\", r\"\", sss[i])"
      ],
      "execution_count": null,
      "outputs": []
    },
    {
      "cell_type": "code",
      "metadata": {
        "id": "_4Smt8BYpzXC"
      },
      "source": [
        "pd.unique(sss)"
      ],
      "execution_count": null,
      "outputs": []
    },
    {
      "cell_type": "code",
      "metadata": {
        "id": "swwLXD4ohWyT"
      },
      "source": [
        "df.source = sss"
      ],
      "execution_count": null,
      "outputs": []
    },
    {
      "cell_type": "code",
      "metadata": {
        "id": "B4IFzyBEkBc0"
      },
      "source": [
        "sss = df.theme"
      ],
      "execution_count": null,
      "outputs": []
    },
    {
      "cell_type": "code",
      "metadata": {
        "colab": {
          "base_uri": "https://localhost:8080/"
        },
        "id": "UGOVVOx6kzFh",
        "outputId": "9218d84a-475e-4a5a-d174-5716531ea765"
      },
      "source": [
        "for i in range(0, len(sss)):\n",
        "  if len(sss[i]) > 20:\n",
        "    sss[i] = 'NoTheme'"
      ],
      "execution_count": null,
      "outputs": [
        {
          "output_type": "stream",
          "text": [
            "/usr/local/lib/python3.7/dist-packages/ipykernel_launcher.py:3: SettingWithCopyWarning: \n",
            "A value is trying to be set on a copy of a slice from a DataFrame\n",
            "\n",
            "See the caveats in the documentation: https://pandas.pydata.org/pandas-docs/stable/user_guide/indexing.html#returning-a-view-versus-a-copy\n",
            "  This is separate from the ipykernel package so we can avoid doing imports until\n"
          ],
          "name": "stderr"
        }
      ]
    },
    {
      "cell_type": "code",
      "metadata": {
        "id": "dOR4l-WjlEEb"
      },
      "source": [
        "df.theme = sss"
      ],
      "execution_count": null,
      "outputs": []
    },
    {
      "cell_type": "code",
      "metadata": {
        "colab": {
          "base_uri": "https://localhost:8080/"
        },
        "id": "4hBqYIfqlOLc",
        "outputId": "0c7b306f-b915-4411-ef02-7a4b75a1e63b"
      },
      "source": [
        "df.groupby(df.theme).count().source"
      ],
      "execution_count": null,
      "outputs": [
        {
          "output_type": "execute_result",
          "data": {
            "text/plain": [
              "theme\n",
              "NoTheme      1604\n",
              "banks        1381\n",
              "business      387\n",
              "economics    1766\n",
              "incident      385\n",
              "market       1201\n",
              "products      917\n",
              "projects       66\n",
              "world         293\n",
              "Name: source, dtype: int64"
            ]
          },
          "metadata": {
            "tags": []
          },
          "execution_count": 115
        }
      ]
    },
    {
      "cell_type": "code",
      "metadata": {
        "id": "i6LBueXF5mhL"
      },
      "source": [
        "sss = df.topic"
      ],
      "execution_count": null,
      "outputs": []
    },
    {
      "cell_type": "code",
      "metadata": {
        "colab": {
          "base_uri": "https://localhost:8080/"
        },
        "id": "wX7U-9be5o6s",
        "outputId": "1f569ff6-5071-4575-d8c1-a66bdbe2f5ec"
      },
      "source": [
        "for i in range(0, len(sss)):\n",
        "  sss[i] = re.sub(r\"\\s+\", r\" \", sss[i])"
      ],
      "execution_count": null,
      "outputs": [
        {
          "output_type": "stream",
          "text": [
            "/usr/local/lib/python3.7/dist-packages/ipykernel_launcher.py:2: SettingWithCopyWarning: \n",
            "A value is trying to be set on a copy of a slice from a DataFrame\n",
            "\n",
            "See the caveats in the documentation: https://pandas.pydata.org/pandas-docs/stable/user_guide/indexing.html#returning-a-view-versus-a-copy\n",
            "  \n"
          ],
          "name": "stderr"
        }
      ]
    },
    {
      "cell_type": "code",
      "metadata": {
        "id": "iJr7UTcn5zfp"
      },
      "source": [
        "df.topic = sss"
      ],
      "execution_count": null,
      "outputs": []
    },
    {
      "cell_type": "code",
      "metadata": {
        "id": "KDwTO2MRlaC5"
      },
      "source": [
        "sss = df.text"
      ],
      "execution_count": null,
      "outputs": []
    },
    {
      "cell_type": "code",
      "metadata": {
        "colab": {
          "base_uri": "https://localhost:8080/",
          "height": 103
        },
        "id": "4nAKfubWt3fw",
        "outputId": "53d70dc8-98b0-47a6-90eb-2ba5bad730ad"
      },
      "source": [
        "sss[1000]"
      ],
      "execution_count": null,
      "outputs": [
        {
          "output_type": "execute_result",
          "data": {
            "application/vnd.google.colaboratory.intrinsic+json": {
              "type": "string"
            },
            "text/plain": [
              "'Совокупный портфель просроченных долгов по ипотечным кредитам россиян за год вырос на 35% и по состоянию на 30 апреля достиг 80 млрд рублей против 59 млрд на ту же дату в прошлом году, говорится в исследовании бюро кредитных историй «Эквифакс». Отмечается, что просроченная задолженность по ипотеке демонстрирует устойчивый рост. Так, только за апрель портфель просроченных ипотечных долгов вырос на 5,4%, а с начала года — на 10,2%. Наблюдается прирост и количества «плохих» ипотечных кредитов. За апрель число таких ссуд выросло незначительно, менее чем на 100 штук, однако с начала года показатель прирос значительно существеннее — на 8,2%, или на 2,185 тыс. кредитов. Тем не менее доли «плохой» ипотеки как по объему портфеля, так и по количеству ипотечных кредитов за апрель не изменились и остаются на уровне 2,8% и 1,7% соответственно. По данным ЦБ, по итогам апреля российские банки выдали россиянам ипотечных кредитов на 7,021 трлн рублей, за месяц прирост составил 1,6%, а за год — 23,1%. Регулятор в конце мая сообщал, что видит риски образования «кредитной спирали», в которой рост ипотечного кредитования выступает фактором роста цен на жилую недвижимость, а рост цен на недвижимость — фактором дальнейшего роста кредитования. ЦБ отметил, что в связи с этим повышается значимость мер сдерживания кредитования граждан с первоначальным взносом менее 20%.'"
            ]
          },
          "metadata": {
            "tags": []
          },
          "execution_count": 131
        }
      ]
    },
    {
      "cell_type": "code",
      "metadata": {
        "id": "0BQAVjOvtvGc"
      },
      "source": [
        "re.sub('<[^<]+?>', '', text)"
      ],
      "execution_count": null,
      "outputs": []
    },
    {
      "cell_type": "code",
      "metadata": {
        "id": "RWDXvqp9lvWF"
      },
      "source": [
        "for i in range(0, len(sss)):\n",
        "  sss[i] = re.sub(r\"(\\<(/?[^>]+)>)\", r\" \", sss[i])"
      ],
      "execution_count": null,
      "outputs": []
    },
    {
      "cell_type": "code",
      "metadata": {
        "id": "gvv4Qnxwm6AZ"
      },
      "source": [
        "for i in range(0, len(sss)):\n",
        "  sss[i] = re.sub(r\"\\s+\", r\" \", sss[i])"
      ],
      "execution_count": null,
      "outputs": []
    },
    {
      "cell_type": "code",
      "metadata": {
        "id": "iLq_kbUAm_GM"
      },
      "source": [
        "for i in range(0, len(sss)):\n",
        "  sss[i] = re.sub(r\" $\", r\"\", sss[i])"
      ],
      "execution_count": null,
      "outputs": []
    },
    {
      "cell_type": "code",
      "metadata": {
        "id": "U9KVbGrqnKJB"
      },
      "source": [
        "for i in range(0, len(sss)):\n",
        "  sss[i] = re.sub(r\" \\.\", r\".\", sss[i])"
      ],
      "execution_count": null,
      "outputs": []
    },
    {
      "cell_type": "code",
      "metadata": {
        "id": "UfgnwfpSppwV"
      },
      "source": [
        "for i in range(0, len(sss)):\n",
        "  sss[i] = re.sub(r\"^ +\", r\"\", sss[i])"
      ],
      "execution_count": null,
      "outputs": []
    },
    {
      "cell_type": "code",
      "metadata": {
        "id": "x1kwcI4c_QvS"
      },
      "source": [
        "for i in range(0, len(sss)):  \n",
        "  print(re.findall('\\*', sss[i]), i)"
      ],
      "execution_count": null,
      "outputs": []
    },
    {
      "cell_type": "code",
      "metadata": {
        "id": "fG5L1WgKnXB1"
      },
      "source": [
        "df.text = sss"
      ],
      "execution_count": null,
      "outputs": []
    },
    {
      "cell_type": "code",
      "metadata": {
        "id": "0MsczWbFqImw"
      },
      "source": [
        "n_list = []\n",
        "for i in zip(df.iterrows(), range(0,df.shape[0])):\n",
        "  n_obj = {}\n",
        "  n_obj.update({\"text\":i[0][1].text})\n",
        "  n_obj.update({\"theme\":i[0][1].theme})\n",
        "  n_obj.update({\"date\":str(i[0][1].date)})\n",
        "  n_obj.update({\"source\":i[0][1].source})\n",
        "  n_obj.update({\"topic\":i[0][1].topic})\n",
        "  n_obj.update({\"id\":i[0][1].id})\n",
        "  n_obj.update({\"URL\":i[0][1].url})\n",
        "  n_list.append(n_obj)"
      ],
      "execution_count": null,
      "outputs": []
    },
    {
      "cell_type": "code",
      "metadata": {
        "id": "3Z0ckgCzr0Cv"
      },
      "source": [
        "with open('drive/My Drive/praka/paper/news_2508.json', 'w', encoding='utf-8') as f:\n",
        "  json.dump(n_list, f, ensure_ascii=False)"
      ],
      "execution_count": null,
      "outputs": []
    },
    {
      "cell_type": "code",
      "metadata": {
        "id": "rpbJDZZGrSgu"
      },
      "source": [
        "pd.options.display.max_rows = 20"
      ],
      "execution_count": null,
      "outputs": []
    },
    {
      "cell_type": "markdown",
      "metadata": {
        "id": "14qfP7AXWWWd"
      },
      "source": [
        "## pres"
      ]
    },
    {
      "cell_type": "code",
      "metadata": {
        "id": "lMRswMpWrzRm",
        "colab": {
          "base_uri": "https://localhost:8080/",
          "height": 163
        },
        "outputId": "9b18487d-f3e5-4890-a73c-2f68d5f8326d"
      },
      "source": [
        "df11 = pd.read_json('/content/drive/MyDrive/praka/news_v3/news_v3_bankiru_fin.json', encoding='utf-8')"
      ],
      "execution_count": null,
      "outputs": [
        {
          "output_type": "error",
          "ename": "NameError",
          "evalue": "ignored",
          "traceback": [
            "\u001b[0;31m---------------------------------------------------------------------------\u001b[0m",
            "\u001b[0;31mNameError\u001b[0m                                 Traceback (most recent call last)",
            "\u001b[0;32m<ipython-input-1-f7b89052a8b6>\u001b[0m in \u001b[0;36m<module>\u001b[0;34m()\u001b[0m\n\u001b[0;32m----> 1\u001b[0;31m \u001b[0mdf11\u001b[0m \u001b[0;34m=\u001b[0m \u001b[0mpd\u001b[0m\u001b[0;34m.\u001b[0m\u001b[0mread_json\u001b[0m\u001b[0;34m(\u001b[0m\u001b[0;34m'/content/drive/MyDrive/praka/news_v3/news_v3_bankiru_fin.json'\u001b[0m\u001b[0;34m,\u001b[0m \u001b[0mencoding\u001b[0m\u001b[0;34m=\u001b[0m\u001b[0;34m'utf-8'\u001b[0m\u001b[0;34m)\u001b[0m\u001b[0;34m\u001b[0m\u001b[0;34m\u001b[0m\u001b[0m\n\u001b[0m",
            "\u001b[0;31mNameError\u001b[0m: name 'pd' is not defined"
          ]
        }
      ]
    },
    {
      "cell_type": "code",
      "metadata": {
        "colab": {
          "base_uri": "https://localhost:8080/"
        },
        "id": "ciHhAwFxXrX1",
        "outputId": "b0720566-2c0f-41c4-8287-d580d2da93ad"
      },
      "source": [
        "df11.shape"
      ],
      "execution_count": null,
      "outputs": [
        {
          "output_type": "execute_result",
          "data": {
            "text/plain": [
              "(5500, 6)"
            ]
          },
          "metadata": {
            "tags": []
          },
          "execution_count": 62
        }
      ]
    },
    {
      "cell_type": "code",
      "metadata": {
        "colab": {
          "base_uri": "https://localhost:8080/",
          "height": 204
        },
        "id": "aDZnWaVYWlgw",
        "outputId": "a718d928-3420-4e2b-f997-cff0c7479fb5"
      },
      "source": [
        "df11.head()"
      ],
      "execution_count": null,
      "outputs": [
        {
          "output_type": "execute_result",
          "data": {
            "text/html": [
              "<div>\n",
              "<style scoped>\n",
              "    .dataframe tbody tr th:only-of-type {\n",
              "        vertical-align: middle;\n",
              "    }\n",
              "\n",
              "    .dataframe tbody tr th {\n",
              "        vertical-align: top;\n",
              "    }\n",
              "\n",
              "    .dataframe thead th {\n",
              "        text-align: right;\n",
              "    }\n",
              "</style>\n",
              "<table border=\"1\" class=\"dataframe\">\n",
              "  <thead>\n",
              "    <tr style=\"text-align: right;\">\n",
              "      <th></th>\n",
              "      <th>text</th>\n",
              "      <th>theme</th>\n",
              "      <th>date</th>\n",
              "      <th>source</th>\n",
              "      <th>topic</th>\n",
              "      <th>id</th>\n",
              "    </tr>\n",
              "  </thead>\n",
              "  <tbody>\n",
              "    <tr>\n",
              "      <th>0</th>\n",
              "      <td>Банк России систематизировал основные виды нед...</td>\n",
              "      <td>banks</td>\n",
              "      <td>2021-02-08 15:34:00</td>\n",
              "      <td>Banki.ru</td>\n",
              "      <td>Банк России систематизировал основные виды нед...</td>\n",
              "      <td>10940</td>\n",
              "    </tr>\n",
              "    <tr>\n",
              "      <th>1</th>\n",
              "      <td>Национальный Расчетный Депозитарий, входящий в...</td>\n",
              "      <td>market</td>\n",
              "      <td>2021-02-08 15:24:00</td>\n",
              "      <td>Национальный Расчетный Депозитарий</td>\n",
              "      <td>Мосбиржа улучшила условия налогового администр...</td>\n",
              "      <td>10942</td>\n",
              "    </tr>\n",
              "    <tr>\n",
              "      <th>2</th>\n",
              "      <td>Рейтинговое агентство «Национальные кредитные ...</td>\n",
              "      <td>banks</td>\n",
              "      <td>2021-02-08 15:25:00</td>\n",
              "      <td>СДМ-Банк</td>\n",
              "      <td>Агентство «НКР» подтвердило СДМ-Банку рейтинг ...</td>\n",
              "      <td>10943</td>\n",
              "    </tr>\n",
              "    <tr>\n",
              "      <th>3</th>\n",
              "      <td>Альфа-Банк запустил акцию по рефинансированию ...</td>\n",
              "      <td>products</td>\n",
              "      <td>2021-02-08 15:17:00</td>\n",
              "      <td>Альфа-Банк</td>\n",
              "      <td>​Альфа-Банк проводит акцию по рефинансированию...</td>\n",
              "      <td>10944</td>\n",
              "    </tr>\n",
              "    <tr>\n",
              "      <th>4</th>\n",
              "      <td>Правительство РФ приняло новые правила разрабо...</td>\n",
              "      <td>NoTheme</td>\n",
              "      <td>2021-02-08 14:49:00</td>\n",
              "      <td>Banki.ru</td>\n",
              "      <td>Госуслуги россиянам будут предлагать в проакти...</td>\n",
              "      <td>10945</td>\n",
              "    </tr>\n",
              "  </tbody>\n",
              "</table>\n",
              "</div>"
            ],
            "text/plain": [
              "                                                text  ...     id\n",
              "0  Банк России систематизировал основные виды нед...  ...  10940\n",
              "1  Национальный Расчетный Депозитарий, входящий в...  ...  10942\n",
              "2  Рейтинговое агентство «Национальные кредитные ...  ...  10943\n",
              "3  Альфа-Банк запустил акцию по рефинансированию ...  ...  10944\n",
              "4  Правительство РФ приняло новые правила разрабо...  ...  10945\n",
              "\n",
              "[5 rows x 6 columns]"
            ]
          },
          "metadata": {
            "tags": []
          },
          "execution_count": 63
        }
      ]
    },
    {
      "cell_type": "code",
      "metadata": {
        "colab": {
          "base_uri": "https://localhost:8080/"
        },
        "id": "FTnrWxcaX50K",
        "outputId": "388f935f-903e-450c-c716-c2cce612002d"
      },
      "source": [
        "df11.groupby(df11.source).count().text"
      ],
      "execution_count": null,
      "outputs": [
        {
          "output_type": "execute_result",
          "data": {
            "text/plain": [
              "source\n",
              "Banki.ru                 2285\n",
              "DWelle                      2\n",
              "Forbes                     10\n",
              "NoSource                   63\n",
              "RT                          5\n",
              "                         ... \n",
              "Юг-Инвестбанк               1\n",
              "Югра в «Книге Памяти»       5\n",
              "ЮниКредит Банк              4\n",
              "Яринтербанк                 1\n",
              "агентство «Москва»          1\n",
              "Name: text, Length: 293, dtype: int64"
            ]
          },
          "metadata": {
            "tags": []
          },
          "execution_count": 66
        }
      ]
    },
    {
      "cell_type": "code",
      "metadata": {
        "id": "35tdEgxvk4sE"
      },
      "source": [
        "from sklearn.model_selection import train_test_split\n",
        "from sklearn.metrics import confusion_matrix, classification_report, accuracy_score, precision_recall_fscore_support, roc_auc_score"
      ],
      "execution_count": null,
      "outputs": []
    },
    {
      "cell_type": "code",
      "metadata": {
        "id": "bTIYDU-gku5i"
      },
      "source": [
        "tmp, df_sampled = 1, df11#train_test_split(df11, test_size=1, shuffle=True, random_state=43)"
      ],
      "execution_count": null,
      "outputs": []
    },
    {
      "cell_type": "code",
      "metadata": {
        "colab": {
          "base_uri": "https://localhost:8080/"
        },
        "id": "TAbpqvpQk6j-",
        "outputId": "7dd06837-e7dc-48b0-eb19-b3e6436e68d3"
      },
      "source": [
        "from nltk import tokenize as tok\n",
        "import nltk\n",
        "nltk.download('punkt')"
      ],
      "execution_count": null,
      "outputs": [
        {
          "output_type": "stream",
          "text": [
            "[nltk_data] Downloading package punkt to /root/nltk_data...\n",
            "[nltk_data]   Package punkt is already up-to-date!\n"
          ],
          "name": "stdout"
        },
        {
          "output_type": "execute_result",
          "data": {
            "text/plain": [
              "True"
            ]
          },
          "metadata": {
            "tags": []
          },
          "execution_count": 20
        }
      ]
    },
    {
      "cell_type": "code",
      "metadata": {
        "colab": {
          "base_uri": "https://localhost:8080/"
        },
        "id": "sXLbnTF-lLWj",
        "outputId": "e3bae071-3fe9-4ee4-f16b-e7eda1516a2f"
      },
      "source": [
        "tok.sent_tokenize(df_sampled.iloc[0].text)"
      ],
      "execution_count": null,
      "outputs": [
        {
          "output_type": "execute_result",
          "data": {
            "text/plain": [
              "['Экспобанк с 4 февраля ввел два новых вклада — «Срочный ЭКСПО» и «Счастье».',\n",
              " 'Депозит «Срочный ЭКСПО» открывается от 91 до 1 500 дней в рублях, от 181 до 732 дней в долларах и от 91 до 732 дней в евро.',\n",
              " 'Минимальная сумма — 30 тыс.',\n",
              " 'рублей или 500 долларов/евро.',\n",
              " 'В рублях ставки составляют 4,1—5,4%, в долларах — 0,1—0,25%, в евро — 0,05—0,1% годовых.',\n",
              " 'Дополнительные взносы и расходные операции не предусмотрены.',\n",
              " 'Проценты выплачиваются ежемесячно на текущий счет или капитализируются.',\n",
              " 'При досрочном расторжении договора выплата процентов осуществляется по ставке вклада до востребования.',\n",
              " 'Срок вклада «Счастье» составляет 1 097 дней и разделен на 12 периодов начисления процентов, каждый процентный период равен трем месяцам: в первом периоде процентная ставка составляет 4,9% при сумме вклада от 10 тыс.',\n",
              " 'рублей и 5,1% от 500 тыс.',\n",
              " 'рублей.',\n",
              " 'Далее, по всем последующим периодам проценты начисляются по ставке 1% годовых.',\n",
              " 'Таким образом, средняя годовая процентная ставка за весь срок размещения средств составит 1,32% от 10 тыс.',\n",
              " 'рублей и 1,34% от 500 тыс.',\n",
              " 'рублей.',\n",
              " 'Проценты ежеквартально капитализируются.',\n",
              " 'При досрочном расторжении договора ранее выплаченные проценты не пересчитываются.',\n",
              " 'С даты, следующей за датой последней выплаты процентов, по дату досрочного расторжения проценты выплачиваются по ставке вклада до востребования.',\n",
              " 'Оба вклада открываются в отделениях банка, а также в интернет-банке.',\n",
              " 'Кроме того, окончен прием средств по вклад «Рождественский ЭКСПО».']"
            ]
          },
          "metadata": {
            "tags": []
          },
          "execution_count": 21
        }
      ]
    },
    {
      "cell_type": "code",
      "metadata": {
        "colab": {
          "base_uri": "https://localhost:8080/"
        },
        "id": "mYFmH6rklME_",
        "outputId": "383aaad7-2120-4189-f8a6-7fe12edd2c3e"
      },
      "source": [
        "sampled_news_list = [] \n",
        "for i in df_sampled.iterrows():  \n",
        "  sentence_list = []\n",
        "  sl =  tok.sent_tokenize(i[1].text)\n",
        "  a = list(map(sentence_list.append, sl))\n",
        "  sampled_news_list.append(sentence_list)\n",
        "print(len(sampled_news_list))"
      ],
      "execution_count": null,
      "outputs": [
        {
          "output_type": "stream",
          "text": [
            "3777\n"
          ],
          "name": "stdout"
        }
      ]
    },
    {
      "cell_type": "code",
      "metadata": {
        "id": "holIib6Ol5lK"
      },
      "source": [
        "d_n = []\n",
        "for i in sampled_news_list:\n",
        "  a = list(map(d_n.append, i))"
      ],
      "execution_count": null,
      "outputs": []
    },
    {
      "cell_type": "code",
      "metadata": {
        "colab": {
          "base_uri": "https://localhost:8080/"
        },
        "id": "icatE0BMmJoq",
        "outputId": "d2b27c47-66e4-4e59-c7d9-ac3b43ad9743"
      },
      "source": [
        "len(d_n)\n",
        "#d_n[356]"
      ],
      "execution_count": null,
      "outputs": [
        {
          "output_type": "execute_result",
          "data": {
            "text/plain": [
              "48213"
            ]
          },
          "metadata": {
            "tags": []
          },
          "execution_count": 32
        }
      ]
    },
    {
      "cell_type": "markdown",
      "metadata": {
        "id": "NT3n1ZVArc-n"
      },
      "source": [
        "!pip install transformers\n",
        "from transformers import BertConfig, BertForSequenceClassification, BertTokenizer\n",
        "PRE_TRAINED_MODEL_NAME = 'DeepPavlov/rubert-base-cased'\n",
        "tokenizer = BertTokenizer.from_pretrained(PRE_TRAINED_MODEL_NAME)\n",
        "tokenizer"
      ]
    },
    {
      "cell_type": "code",
      "metadata": {
        "id": "mhjT4azTlJ6w"
      },
      "source": [
        ""
      ],
      "execution_count": null,
      "outputs": []
    },
    {
      "cell_type": "code",
      "metadata": {
        "id": "8jNx8vBVIKaV"
      },
      "source": [
        "def get_token_len(df, tokenizer):\n",
        "    '''Функция для входного Dataframe возвращает список размеров текстов в токенах'''\n",
        "    token_lens = []\n",
        "    for txt in df.text:\n",
        "        tokens = tokenizer.encode(txt)\n",
        "        token_lens.append(len(tokens))\n",
        "    return token_lens"
      ],
      "execution_count": null,
      "outputs": []
    },
    {
      "cell_type": "code",
      "metadata": {
        "colab": {
          "base_uri": "https://localhost:8080/",
          "height": 313
        },
        "id": "uXRB5JovIP6g",
        "outputId": "0074f2d7-630d-4840-cff0-5cae8542f505"
      },
      "source": [
        "import seaborn as sns\n",
        "import matplotlib.pyplot as plt\n",
        "\n",
        "token_lens_train = get_token_len(df11, tokenizer)\n",
        "print(f'min length = {min(token_lens_train)} tokens')\n",
        "print(f'max length = {max(token_lens_train)} tokens')\n",
        "sns.histplot(token_lens_train)\n",
        "#plt.xlim([0, 256]);   # Сжать график\n",
        "plt.xlabel('Token count');\n",
        "MAX_LEN = max(token_lens_train)"
      ],
      "execution_count": null,
      "outputs": [
        {
          "output_type": "stream",
          "text": [
            "min length = 34 tokens\n",
            "max length = 2966 tokens\n"
          ],
          "name": "stdout"
        },
        {
          "output_type": "display_data",
          "data": {
            "image/png": "[encoded data removed]",
            "text/plain": [
              "<Figure size 432x288 with 1 Axes>"
            ]
          },
          "metadata": {
            "tags": [],
            "needs_background": "light"
          }
        }
      ]
    },
    {
      "cell_type": "markdown",
      "metadata": {
        "id": "sc73d2tfa-qF"
      },
      "source": [
        "# Корпус financial_review"
      ]
    },
    {
      "cell_type": "code",
      "metadata": {
        "id": "-gVbJy8XyQic"
      },
      "source": [
        "df2 = pd.read_csv('/content/drive/MyDrive/financial_review.csv')"
      ],
      "execution_count": null,
      "outputs": []
    },
    {
      "cell_type": "code",
      "metadata": {
        "colab": {
          "base_uri": "https://localhost:8080/"
        },
        "id": "ozR8dueYaszg",
        "outputId": "a0902478-852c-4adb-a40f-aa81ae06a6f6"
      },
      "source": [
        "df2.shape"
      ],
      "execution_count": null,
      "outputs": [
        {
          "output_type": "execute_result",
          "data": {
            "text/plain": [
              "(23810, 10)"
            ]
          },
          "metadata": {
            "tags": []
          },
          "execution_count": 19
        }
      ]
    },
    {
      "cell_type": "code",
      "metadata": {
        "colab": {
          "base_uri": "https://localhost:8080/",
          "height": 204
        },
        "id": "5_54hoquarPU",
        "outputId": "f5189502-53ec-4ff8-a167-911caf65db77"
      },
      "source": [
        "df2.head()"
      ],
      "execution_count": null,
      "outputs": [
        {
          "output_type": "execute_result",
          "data": {
            "text/html": [
              "<div>\n",
              "<style scoped>\n",
              "    .dataframe tbody tr th:only-of-type {\n",
              "        vertical-align: middle;\n",
              "    }\n",
              "\n",
              "    .dataframe tbody tr th {\n",
              "        vertical-align: top;\n",
              "    }\n",
              "\n",
              "    .dataframe thead th {\n",
              "        text-align: right;\n",
              "    }\n",
              "</style>\n",
              "<table border=\"1\" class=\"dataframe\">\n",
              "  <thead>\n",
              "    <tr style=\"text-align: right;\">\n",
              "      <th></th>\n",
              "      <th>bank_href</th>\n",
              "      <th>login</th>\n",
              "      <th>review</th>\n",
              "      <th>bank_name</th>\n",
              "      <th>site</th>\n",
              "      <th>date</th>\n",
              "      <th>message_href</th>\n",
              "      <th>score</th>\n",
              "      <th>status</th>\n",
              "      <th>user_href</th>\n",
              "    </tr>\n",
              "  </thead>\n",
              "  <tbody>\n",
              "    <tr>\n",
              "      <th>0</th>\n",
              "      <td>/kredit-evropa-bank.html</td>\n",
              "      <td>NaN</td>\n",
              "      <td>Брал кредит в данной организации, после погаше...</td>\n",
              "      <td>кредит европа банк</td>\n",
              "      <td>http://bankireview.ru</td>\n",
              "      <td>NaN</td>\n",
              "      <td>NaN</td>\n",
              "      <td>NaN</td>\n",
              "      <td>NaN</td>\n",
              "      <td>NaN</td>\n",
              "    </tr>\n",
              "    <tr>\n",
              "      <th>1</th>\n",
              "      <td>/kredit-evropa-bank.html</td>\n",
              "      <td>NaN</td>\n",
              "      <td>В 2011 году,мною была оформлена мега карта в Т...</td>\n",
              "      <td>кредит европа банк</td>\n",
              "      <td>http://bankireview.ru</td>\n",
              "      <td>NaN</td>\n",
              "      <td>NaN</td>\n",
              "      <td>NaN</td>\n",
              "      <td>NaN</td>\n",
              "      <td>NaN</td>\n",
              "    </tr>\n",
              "    <tr>\n",
              "      <th>2</th>\n",
              "      <td>/kredit-evropa-bank.html</td>\n",
              "      <td>NaN</td>\n",
              "      <td>С родителями увидели рекламу вклада Осеннее пр...</td>\n",
              "      <td>кредит европа банк</td>\n",
              "      <td>http://bankireview.ru</td>\n",
              "      <td>NaN</td>\n",
              "      <td>NaN</td>\n",
              "      <td>NaN</td>\n",
              "      <td>NaN</td>\n",
              "      <td>NaN</td>\n",
              "    </tr>\n",
              "    <tr>\n",
              "      <th>3</th>\n",
              "      <td>/kredit-evropa-bank.html</td>\n",
              "      <td>NaN</td>\n",
              "      <td>Связать три года своей жизни с этим непорядочн...</td>\n",
              "      <td>кредит европа банк</td>\n",
              "      <td>http://bankireview.ru</td>\n",
              "      <td>NaN</td>\n",
              "      <td>NaN</td>\n",
              "      <td>NaN</td>\n",
              "      <td>NaN</td>\n",
              "      <td>NaN</td>\n",
              "    </tr>\n",
              "    <tr>\n",
              "      <th>4</th>\n",
              "      <td>/kredit-evropa-bank.html</td>\n",
              "      <td>NaN</td>\n",
              "      <td>Пользуюсь месяц карточкой Card Plus, сегодня п...</td>\n",
              "      <td>кредит европа банк</td>\n",
              "      <td>http://bankireview.ru</td>\n",
              "      <td>NaN</td>\n",
              "      <td>NaN</td>\n",
              "      <td>NaN</td>\n",
              "      <td>NaN</td>\n",
              "      <td>NaN</td>\n",
              "    </tr>\n",
              "  </tbody>\n",
              "</table>\n",
              "</div>"
            ],
            "text/plain": [
              "                  bank_href login  ... status user_href\n",
              "0  /kredit-evropa-bank.html   NaN  ...    NaN       NaN\n",
              "1  /kredit-evropa-bank.html   NaN  ...    NaN       NaN\n",
              "2  /kredit-evropa-bank.html   NaN  ...    NaN       NaN\n",
              "3  /kredit-evropa-bank.html   NaN  ...    NaN       NaN\n",
              "4  /kredit-evropa-bank.html   NaN  ...    NaN       NaN\n",
              "\n",
              "[5 rows x 10 columns]"
            ]
          },
          "metadata": {
            "tags": []
          },
          "execution_count": 18
        }
      ]
    },
    {
      "cell_type": "code",
      "metadata": {
        "colab": {
          "base_uri": "https://localhost:8080/"
        },
        "id": "FGBTnmF3a0ye",
        "outputId": "19b15ca5-ce52-4f23-d73d-69e1e8364c32"
      },
      "source": [
        "pd.unique(df2.site)"
      ],
      "execution_count": null,
      "outputs": [
        {
          "output_type": "execute_result",
          "data": {
            "text/plain": [
              "array(['http://bankireview.ru', 'http://banki.ru',\n",
              "       'https://www.sravni.ru'], dtype=object)"
            ]
          },
          "metadata": {
            "tags": []
          },
          "execution_count": 20
        }
      ]
    }
  ]
}